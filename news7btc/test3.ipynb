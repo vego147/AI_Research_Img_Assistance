{
 "cells": [
  {
   "cell_type": "code",
   "execution_count": null,
   "id": "5788d17a",
   "metadata": {},
   "outputs": [],
   "source": [
    "from typing import TypedDict, List\n",
    "from langgraph.graph import StateGraph, START, END\n",
    "from langchain_google_genai import ChatGoogleGenerativeAI\n",
    "from tools import serper_search\n",
    "from dotenv import load_dotenv\n",
    "import os\n"
   ]
  },
  {
   "cell_type": "code",
   "execution_count": 71,
   "id": "07315b24",
   "metadata": {},
   "outputs": [],
   "source": [
    "load_dotenv()\n",
    "\n",
    "GEMINI_API_KEY = os.environ.get('GEMINI_API_KEY')\n",
    "SERPER_API_KEY = os.environ.get('SERPER_API_KEY')\n",
    "NEWS_API_KEY = os.environ.get('NEWS_API_KEY')\n",
    "\n",
    "llm = ChatGoogleGenerativeAI(model='gemini-2.0-flash', google_api_key=GEMINI_API_KEY)\n",
    "gen_search_tool = serper_search()"
   ]
  },
  {
   "cell_type": "code",
   "execution_count": 90,
   "id": "4c4334a4",
   "metadata": {},
   "outputs": [],
   "source": [
    "### INDIVIDUAL TEST CASES\n",
    "user_query = input(\"Please Enter Something: \")\n",
    "\n",
    "# response = llm.invoke(user_query)\n",
    "\n",
    "search_results = gen_search_tool.invoke(user_query)\n",
    "\n"
   ]
  },
  {
   "cell_type": "code",
   "execution_count": null,
   "id": "887a38c4",
   "metadata": {},
   "outputs": [
    {
     "name": "stdout",
     "output_type": "stream",
     "text": [
      "{'searchParameters': {'q': 'elon musk latest tweet', 'type': 'search', 'engine': 'google'}, 'organic': [{'title': 'Posts with replies by Elon Musk (@elonmusk) / X', 'link': 'https://x.com/elonmusk/with_replies', 'snippet': \"GROK 4 SEES, TALKS, AND THINKS OUT LOUD It doesn't just chat - it watches, analyzes, and answers in real time. Grok 4's voice mode is scary good now: more ...\", 'position': 1}, {'title': 'Elon Musk Today', 'link': 'https://elonmusk.today/', 'snippet': \"Entire Corpus of Human Knowledge. [Link]. 21 days since Elon Musk said Twitter's AI model would rewrite the entire corpus of human knowledge. (6/21/2025).\", 'position': 2}, {'title': 'Latest News, Photos, Videos on Elon Musk Tweet - NDTV.COM', 'link': 'https://www.ndtv.com/topic/elon-musk-tweet', 'snippet': \"UK Riots: Elon Musk Hits Back At Keir Starmer With 'Family Guy' Meme ... In his recent tweet, Musk, the billionaire owner of X, slammed the UK government again ...\", 'position': 3}, {'title': 'Elon turned Twitter into a Nazi cesspool, and now he turned his AI ...', 'link': 'https://www.instagram.com/reel/DL6OKDdR6fC/', 'snippet': \"Elon Musk's AI chatbot Groc is now pushing anti-Semitic tropes. Groc sent a hostile message to a user with a common Jewish last name. The ...\", 'date': '4 days ago', 'position': 4}, {'title': 'Elon Musk - Wikipedia', 'link': 'https://en.wikipedia.org/wiki/Elon_Musk', 'snippet': 'In 2022, he acquired the social network Twitter, implementing significant changes and rebranding it as X in 2023. His other businesses include the ...', 'sitelinks': [{'title': 'Twitter under Elon Musk', 'link': 'https://en.wikipedia.org/wiki/Twitter_under_Elon_Musk'}, {'title': 'Tesla Roadster', 'link': 'https://en.wikipedia.org/wiki/Elon_Musk%27s_Tesla_Roadster'}, {'title': 'Tesla, SpaceX, and the Quest...', 'link': 'https://en.wikipedia.org/wiki/Elon_Musk:_Tesla,_SpaceX,_and_the_Quest_for_a_Fantastic_Future'}, {'title': 'Grimes', 'link': 'https://en.wikipedia.org/wiki/Grimes'}], 'position': 5}, {'title': \"Best Elon Musk's Tweets\", 'link': 'https://tweethunter.io/tweets/elon-musk-best-tweets', 'snippet': 'Top tweets by Elon Musk. Here are the top 50 tweets Elon Musk has posted on Twitter. Real gems right here.', 'position': 6}, {'title': 'Elon turned Twitter into a Nazi cesspool, and now he turned his AI ...', 'link': 'https://www.facebook.com/thedailyshow/videos/elons-ai-goes-full-nazi/675316585505531/', 'snippet': \"Elon Musk's AI chatbot, Grok, is now pushing antisemitic tropes. REPORTER: Grok sent a hostile message to a user with a common Jewish last name.\", 'date': '4 days ago', 'position': 7}, {'title': 'Elon Musk has some regrets about his Trump tweets… - Instagram', 'link': 'https://www.instagram.com/reel/DKyMesmRIls/?hl=en', 'snippet': \"Elon Musk called Trump on Monday to I don't know I guess try to butter him back up and in the middle of the night last night Elon tweeted I regret some of my ...\", 'date': 'Jun 11, 2025', 'position': 8}], 'topStories': [{'title': 'Elon Breaks Silence on Trump’s Epstein File Demand to MAGA', 'link': 'https://www.thedailybeast.com/elon-musk-breaks-silence-on-donald-trumps-epstein-file-demand/', 'date': '8 hours ago', 'source': 'The Daily Beast'}, {'title': \"French probe of Musk's X deepens as police are called in\", 'link': 'https://www.reuters.com/legal/litigation/paris-prosecutor-contacts-police-probe-into-social-media-platform-x-advances-2025-07-11/', 'date': '1 day ago', 'source': 'Reuters'}], 'relatedSearches': [{'query': 'elon musk twitter'}, {'query': 'elon musk latest news'}, {'query': 'elon musk children'}, {'query': 'elon musk x posts'}, {'query': 'elon musk x account'}, {'query': 'elon musk trump'}, {'query': 'elon musk instagram'}, {'query': 'elon musk x posts today'}], 'credits': 1}\n",
      "https://x.com/elonmusk/with_replies\n",
      "https://elonmusk.today/\n",
      "https://www.ndtv.com/topic/elon-musk-tweet\n",
      "https://www.instagram.com/reel/DL6OKDdR6fC/\n",
      "https://en.wikipedia.org/wiki/Elon_Musk\n",
      "https://tweethunter.io/tweets/elon-musk-best-tweets\n",
      "https://www.facebook.com/thedailyshow/videos/elons-ai-goes-full-nazi/675316585505531/\n",
      "https://www.instagram.com/reel/DKyMesmRIls/?hl=en\n"
     ]
    }
   ],
   "source": [
    "print(search_results)\n",
    "\n",
    "url = [article['link'] for article in search_results.get('organic',[])] \n",
    "\n",
    "\n"
   ]
  },
  {
   "cell_type": "code",
   "execution_count": 93,
   "id": "617a0da4",
   "metadata": {},
   "outputs": [
    {
     "name": "stdout",
     "output_type": "stream",
     "text": [
      "https://www.ndtv.com/topic/elon-musk-tweet\n",
      "https://en.wikipedia.org/wiki/Elon_Musk\n"
     ]
    }
   ],
   "source": [
    "prompt = f\"\"\"\n",
    "You are given a list of URLs related to a certain topic. Your task is to:\n",
    "\n",
    "- Review the trustworthiness of each source based on its domain reputation, credibility, and typical content quality.\n",
    "- Select only the most **trustworthy** sources (e.g., major news organizations, well-known publishers, government or academic sites).\n",
    "- DO NOT include any explanation or text. Just return the valid, trustworthy URLs, one per line.\n",
    "\n",
    "List of URLs:\n",
    "{url}\n",
    "\"\"\"\n",
    "\n",
    "\n",
    "\n",
    "response = llm.invoke(prompt)\n",
    "print(response.content)"
   ]
  },
  {
   "cell_type": "code",
   "execution_count": 3,
   "id": "298e4f9e",
   "metadata": {},
   "outputs": [],
   "source": [
    "class AgentState(TypedDict):\n",
    "    user_query: str\n",
    "    query_list: List[str]\n",
    "    summary: list[dict]\n",
    "    "
   ]
  },
  {
   "cell_type": "code",
   "execution_count": null,
   "id": "2f34fa95",
   "metadata": {},
   "outputs": [],
   "source": []
  }
 ],
 "metadata": {
  "kernelspec": {
   "display_name": "myenv",
   "language": "python",
   "name": "python3"
  },
  "language_info": {
   "codemirror_mode": {
    "name": "ipython",
    "version": 3
   },
   "file_extension": ".py",
   "mimetype": "text/x-python",
   "name": "python",
   "nbconvert_exporter": "python",
   "pygments_lexer": "ipython3",
   "version": "3.13.4"
  }
 },
 "nbformat": 4,
 "nbformat_minor": 5
}
