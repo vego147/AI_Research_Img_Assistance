{
 "cells": [
  {
   "cell_type": "code",
   "execution_count": 1,
   "id": "96d18432",
   "metadata": {},
   "outputs": [],
   "source": [
    "from typing import Dict, TypedDict\n",
    "from langgraph.graph import StateGraph"
   ]
  },
  {
   "cell_type": "code",
   "execution_count": 17,
   "id": "b94a146e",
   "metadata": {},
   "outputs": [],
   "source": [
    "class AgentState(TypedDict):\n",
    "    message : str\n",
    "    compliment : str\n",
    "\n",
    "\n",
    "def  greeting_node(state: AgentState) -> AgentState:\n",
    "    \"\"\"\"Simple node That adds Greeting Message to State\"\"\"\n",
    "    state['message'] = 'Hey ' + state['message'] + ' How are you doing'\n",
    "    return state\n",
    "\n",
    "def compliment_node(state:AgentState) -> AgentState:\n",
    "    \"\"\"NOde that Adds Compliment\"\"\"\n",
    "    state['compliment'] = state['compliment'] + 'you are Doing a Great Job'\n",
    "    return state\n"
   ]
  },
  {
   "cell_type": "code",
   "execution_count": 22,
   "id": "f26f1271",
   "metadata": {},
   "outputs": [],
   "source": [
    "graph = StateGraph(AgentState)\n",
    "\n",
    "graph.add_node('Greeter',greeting_node)\n",
    "graph.add_node('Compliment', compliment_node)\n",
    "\n",
    "graph.set_entry_point('Compliment')\n",
    "graph.set_finish_point('Compliment')\n",
    "\n",
    "app = graph.compile()"
   ]
  },
  {
   "cell_type": "code",
   "execution_count": 23,
   "id": "f8e87c6e",
   "metadata": {},
   "outputs": [
    {
     "data": {
      "text/plain": [
       "'jonnyyou are Doing a Great Job'"
      ]
     },
     "execution_count": 23,
     "metadata": {},
     "output_type": "execute_result"
    }
   ],
   "source": [
    "result = app.invoke({'compliment': 'jonny'})\n",
    "\n",
    "result['compliment']"
   ]
  }
 ],
 "metadata": {
  "kernelspec": {
   "display_name": "myenv",
   "language": "python",
   "name": "python3"
  },
  "language_info": {
   "codemirror_mode": {
    "name": "ipython",
    "version": 3
   },
   "file_extension": ".py",
   "mimetype": "text/x-python",
   "name": "python",
   "nbconvert_exporter": "python",
   "pygments_lexer": "ipython3",
   "version": "3.13.2"
  }
 },
 "nbformat": 4,
 "nbformat_minor": 5
}
