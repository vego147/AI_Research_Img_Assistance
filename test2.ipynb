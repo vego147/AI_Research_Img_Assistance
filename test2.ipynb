{
 "cells": [
  {
   "cell_type": "code",
   "execution_count": 7,
   "id": "e4c9a872",
   "metadata": {},
   "outputs": [],
   "source": [
    "from typing import Dict, TypedDict, List\n",
    "from langgraph.graph import StateGraph\n",
    "import math"
   ]
  },
  {
   "cell_type": "code",
   "execution_count": 13,
   "id": "9b971ba9",
   "metadata": {},
   "outputs": [],
   "source": [
    "class AgentState(TypedDict):\n",
    "    name: str\n",
    "    values: List[int]\n",
    "    operation: str\n",
    "    result: str"
   ]
  },
  {
   "cell_type": "code",
   "execution_count": 23,
   "id": "890dc806",
   "metadata": {},
   "outputs": [],
   "source": [
    "def op_node(state:AgentState) -> AgentState:\n",
    "    oper = state['operation']\n",
    "    oper_val = 0\n",
    "    \n",
    "    if oper == '+':\n",
    "        oper_val = sum(state['values'])\n",
    "    elif oper == '*':\n",
    "        oper_val = math.prod(state['values'])\n",
    "\n",
    "    state['result'] = f'Hi {state['name']}, Your scores {oper_val} '\n",
    "    return state"
   ]
  },
  {
   "cell_type": "code",
   "execution_count": null,
   "id": "4096cc0b",
   "metadata": {},
   "outputs": [],
   "source": [
    "graph = StateGraph(AgentState)\n",
    "\n",
    "graph.add_node('opp', op_node)\n",
    "graph.set_entry_point('opp')\n",
    "graph.set_finish_point('opp')z\n",
    "\n",
    "app = graph.compile()"
   ]
  },
  {
   "cell_type": "code",
   "execution_count": 25,
   "id": "989bace5",
   "metadata": {},
   "outputs": [
    {
     "name": "stdout",
     "output_type": "stream",
     "text": [
      "Hi kax, Your scores 140025600 \n"
     ]
    }
   ],
   "source": [
    "fin = app.invoke({'name': 'kax', 'values': [50,66,52,68,12], 'operation': '*'})\n",
    "\n",
    "print(fin['result'])"
   ]
  }
 ],
 "metadata": {
  "kernelspec": {
   "display_name": "myenv",
   "language": "python",
   "name": "python3"
  },
  "language_info": {
   "codemirror_mode": {
    "name": "ipython",
    "version": 3
   },
   "file_extension": ".py",
   "mimetype": "text/x-python",
   "name": "python",
   "nbconvert_exporter": "python",
   "pygments_lexer": "ipython3",
   "version": "3.13.2"
  }
 },
 "nbformat": 4,
 "nbformat_minor": 5
}
