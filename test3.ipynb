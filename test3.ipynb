{
 "cells": [
  {
   "cell_type": "code",
   "execution_count": 3,
   "id": "0d525f22",
   "metadata": {},
   "outputs": [],
   "source": [
    "from typing import Dict, TypedDict, List\n",
    "from langgraph.graph import StateGraph"
   ]
  },
  {
   "cell_type": "code",
   "execution_count": 5,
   "id": "bc32da70",
   "metadata": {},
   "outputs": [],
   "source": [
    "class AgentState(TypedDict):\n",
    "    name: str\n",
    "    age: str\n",
    "    skills: List[str]\n",
    "    result: str"
   ]
  },
  {
   "cell_type": "code",
   "execution_count": null,
   "id": "4248847e",
   "metadata": {},
   "outputs": [],
   "source": [
    "def first_node(state:AgentState) -> AgentState:\n",
    "    \"\"\"Personalize the Name Field with a Greeting\"\"\"\n",
    "    state['result'] = f'{state['name']}, Welcome to the system!'\n",
    "    return state\n",
    "\n",
    "\n",
    "def second_node(state:AgentState) -> AgentState:\n",
    "    \"\"\"Describes the uSers Age\"\"\"\n",
    "    state['result'] = state['result'] + f' You are {state['age']} years Old'\n",
    "    return state\n",
    "\n",
    "\n",
    "def third_node(state:AgentState) -> AgentState:\n",
    "    \"\"\"List the users skills in formatted String\"\"\"\n",
    "    skill_set = ''\n",
    "    for x in state['skills']:\n",
    "        skill_set = skill_set + \" \" + x\n",
    "\n",
    "    state['result'] = state['result'] + f' You have skills in: {skill_set}'\n",
    "    return state\n"
   ]
  },
  {
   "cell_type": "code",
   "execution_count": 29,
   "id": "000d45ec",
   "metadata": {},
   "outputs": [],
   "source": [
    "graph = StateGraph(AgentState)\n",
    "\n",
    "graph.add_node('first_node', first_node)\n",
    "graph.add_node('second_node', second_node)\n",
    "graph.add_node('third_node', third_node)\n",
    "\n",
    "graph.add_edge('first_node', 'second_node')\n",
    "graph.add_edge('second_node','third_node')\n",
    "\n",
    "\n",
    "graph.set_entry_point('first_node')\n",
    "graph.set_finish_point('third_node')\n",
    "\n",
    "app = graph.compile()"
   ]
  },
  {
   "cell_type": "code",
   "execution_count": 30,
   "id": "34b87c26",
   "metadata": {},
   "outputs": [
    {
     "data": {
      "image/png": "[encoded data removed]",
      "text/plain": [
       "<IPython.core.display.Image object>"
      ]
     },
     "metadata": {},
     "output_type": "display_data"
    }
   ],
   "source": [
    "from IPython.display import Image, display\n",
    "display(Image(app.get_graph().draw_mermaid_png()))"
   ]
  },
  {
   "cell_type": "code",
   "execution_count": 31,
   "id": "07b1431e",
   "metadata": {},
   "outputs": [
    {
     "data": {
      "text/plain": [
       "\"kax, Welcome to the system! You are 22 years Old You have skills in: ['python', 'Machine learning', 'langgraph']\""
      ]
     },
     "execution_count": 31,
     "metadata": {},
     "output_type": "execute_result"
    }
   ],
   "source": [
    "fin = app.invoke({'name': 'kax', 'age': '22', 'skills':['python', 'Machine learning', 'langgraph']})\n",
    "\n",
    "fin['result']"
   ]
  }
 ],
 "metadata": {
  "kernelspec": {
   "display_name": "myenv",
   "language": "python",
   "name": "python3"
  },
  "language_info": {
   "codemirror_mode": {
    "name": "ipython",
    "version": 3
   },
   "file_extension": ".py",
   "mimetype": "text/x-python",
   "name": "python",
   "nbconvert_exporter": "python",
   "pygments_lexer": "ipython3",
   "version": "3.13.2"
  }
 },
 "nbformat": 4,
 "nbformat_minor": 5
}
