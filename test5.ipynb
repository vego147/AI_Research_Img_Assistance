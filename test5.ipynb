{
 "cells": [
  {
   "cell_type": "code",
   "execution_count": 2,
   "id": "5adfcea3",
   "metadata": {},
   "outputs": [],
   "source": [
    "from typing import Dict, TypedDict\n",
    "from langgraph.graph import StateGraph, START, END\n",
    "import random"
   ]
  },
  {
   "cell_type": "code",
   "execution_count": 65,
   "id": "56287727",
   "metadata": {},
   "outputs": [],
   "source": [
    "class AgentState(TypedDict):\n",
    "    # player_name: str\n",
    "    greeting: str\n",
    "    counter: int\n",
    "    attempts: int\n",
    "    lower_bounds: int\n",
    "    upper_bounds: int\n",
    "    ran_num: int\n",
    "    guess: int\n",
    "    result: str"
   ]
  },
  {
   "cell_type": "code",
   "execution_count": 124,
   "id": "c6db0c74",
   "metadata": {},
   "outputs": [],
   "source": [
    "def setup_node(state: AgentState) -> AgentState:\n",
    "    state['ran_num'] = random.randint(1,20)\n",
    "    state['greeting'] = f'Hey Student, The Game has Begun, Im thinking Of Number Between 1 and 20, Guess that'\n",
    "    print(state['greeting'])\n",
    "    state['counter'] = 0\n",
    "    state['attempts'] = 0\n",
    "    return state\n",
    "\n",
    "def guess_node(state: AgentState) -> AgentState:\n",
    "    state['guess'] = random.randint(state['lower_bounds'],state['upper_bounds'])\n",
    "    state['counter'] += 1\n",
    "    state['attempts'] += 1\n",
    "    print(f\"Guessed number is {state['guess']}\")\n",
    "    return state\n",
    "\n",
    "def hint_node(state: AgentState) -> str:\n",
    "    if state['counter'] >= 7:\n",
    "        print(f'You Lost after {state['counter']} Tries')\n",
    "        return 'end'\n",
    "    else:\n",
    "        if state['guess'] == state['ran_num']:\n",
    "            print(f'You won the Number is {state['guess']}, you find it in {state['attempts']} attempts')\n",
    "            return 'won'\n",
    "        \n",
    "        elif state['guess'] > state['ran_num']:\n",
    "            state['upper_bounds'] = state['guess'] - 1\n",
    "            print(f'The Number {state['guess']} is Too High')\n",
    "\n",
    "        elif state['guess'] < state['ran_num']:\n",
    "            state['lower_bounds'] = state['guess'] + 1\n",
    "            print(f'The Number {state['guess']} is too Low')\n",
    "            \n",
    "\n",
    "\n",
    "        return 'loop'"
   ]
  },
  {
   "cell_type": "code",
   "execution_count": 125,
   "id": "162b1055",
   "metadata": {},
   "outputs": [],
   "source": [
    "graph = StateGraph(AgentState)\n",
    "\n",
    "graph.add_node('setup_node', setup_node)\n",
    "graph.add_node('guess_node', guess_node)\n",
    "graph.add_node('hint_node', lambda state:state)\n",
    "\n",
    "# graph.add_node('router', lambda state: state)\n",
    "\n",
    "\n",
    "graph.add_edge(START, 'setup_node')\n",
    "graph.add_edge('setup_node', 'guess_node')\n",
    "graph.add_edge('guess_node', 'hint_node')\n",
    "\n",
    "graph.add_conditional_edges(\n",
    "    'hint_node', hint_node,{\n",
    "        'end': END,\n",
    "        'won': END,\n",
    "        'loop': 'guess_node'\n",
    "    } \n",
    ")\n",
    "\n",
    "\n",
    "app = graph.compile()"
   ]
  },
  {
   "cell_type": "code",
   "execution_count": 94,
   "id": "c0f64bef",
   "metadata": {},
   "outputs": [
    {
     "data": {
      "image/png": "[encoded data removed]",
      "text/plain": [
       "<IPython.core.display.Image object>"
      ]
     },
     "metadata": {},
     "output_type": "display_data"
    }
   ],
   "source": [
    "from IPython.display import Image, display\n",
    "display(Image(app.get_graph().draw_mermaid_png()))"
   ]
  },
  {
   "cell_type": "code",
   "execution_count": 133,
   "id": "a9949166",
   "metadata": {},
   "outputs": [
    {
     "name": "stdout",
     "output_type": "stream",
     "text": [
      "Hey Student, The Game has Begun, Im thinking Of Number Between 1 and 20, Guess that\n",
      "Guessed number is 3\n",
      "The Number 3 is too Low\n",
      "Guessed number is 12\n",
      "You won the Number is 12, you find it in 2 attempts\n"
     ]
    }
   ],
   "source": [
    "result = app.invoke({\"player_name\": \"Student\", \"guesses\": [], \"attempts\": 0, \"lower_bounds\": 1, \"upper_bounds\": 20})"
   ]
  }
 ],
 "metadata": {
  "kernelspec": {
   "display_name": "myenv",
   "language": "python",
   "name": "python3"
  },
  "language_info": {
   "codemirror_mode": {
    "name": "ipython",
    "version": 3
   },
   "file_extension": ".py",
   "mimetype": "text/x-python",
   "name": "python",
   "nbconvert_exporter": "python",
   "pygments_lexer": "ipython3",
   "version": "3.13.2"
  }
 },
 "nbformat": 4,
 "nbformat_minor": 5
}
