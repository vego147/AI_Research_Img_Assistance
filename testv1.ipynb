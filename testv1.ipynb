{
 "cells": [
  {
   "cell_type": "code",
   "execution_count": 20,
   "id": "0d8d8234",
   "metadata": {},
   "outputs": [],
   "source": [
    "from typing import TypedDict, List, Dict\n",
    "from langgraph.graph import StateGraph, START,END\n",
    "import random"
   ]
  },
  {
   "cell_type": "code",
   "execution_count": 31,
   "id": "01842628",
   "metadata": {},
   "outputs": [],
   "source": [
    "class AgentState(TypedDict):\n",
    "    player_name: str\n",
    "    target_number: int\n",
    "    guesses: List[int]\n",
    "    hint: str\n",
    "    attempts: int\n",
    "    lower_bound: int\n",
    "    upper_bound: int\n",
    "\n",
    "\n",
    "def gen_num(state: AgentState) -> AgentState:\n",
    "    state['player_name'] = f'Welcome, {state['player_name']}'\n",
    "    state['target_number'] = random.randint(0, 20)\n",
    "    state['guess'] = []\n",
    "    state['attempts'] = 0\n",
    "    state['lower_bound'] = 1\n",
    "    state['upper_bound'] = 20\n",
    "    print(f'{state['player_name']} The game Has begun. Im thinking of a number between 1 and 20, can You guess that')\n",
    "    return state\n",
    "\n",
    "def guess_node(state: AgentState) -> AgentState:\n",
    "\n",
    "    guess = random.randint(state['lower_bound'], state['upper_bound'])\n",
    "    state['guesses'].append(guess)\n",
    "    state['attempts'] += 1\n",
    "    print(f'{state['attempts']}: Guessing{guess} (Current range: {state['lower_bound']}-{state['upper_bound']})')\n",
    "    return state\n",
    "\n",
    "\n",
    "def hind_node (state: AgentState) -> AgentState:\n",
    "    latest_guess = state['guesses'][-1]\n",
    "    target = state['target_number']\n",
    "    if latest_guess < target:\n",
    "        state['hint'] = f'the number{latest_guess} is too low. Try Higher'\n",
    "        state['lower_bound'] = max(state['lower_bound'], latest_guess + 1)\n",
    "        print(f\"Hint: {state['hint']}\")\n",
    "    elif latest_guess > target:\n",
    "        state['hint'] = f\" the nimber{latest_guess} is too high. Try Lower\"\n",
    "        state['upper_bound'] = min(state['upper_bound'], latest_guess - 1)\n",
    "        print(f\" state{state['hint']}\")\n",
    "\n",
    "    else: \n",
    "        state['hint'] = f\"Correnct! You found the number{target} in {state['attempts']} attempts\"\n",
    "        print(state['hint'])\n",
    "\n",
    "    return state\n",
    "\n"
   ]
  }
 ],
 "metadata": {
  "kernelspec": {
   "display_name": "myenv",
   "language": "python",
   "name": "python3"
  },
  "language_info": {
   "codemirror_mode": {
    "name": "ipython",
    "version": 3
   },
   "file_extension": ".py",
   "mimetype": "text/x-python",
   "name": "python",
   "nbconvert_exporter": "python",
   "pygments_lexer": "ipython3",
   "version": "3.13.4"
  }
 },
 "nbformat": 4,
 "nbformat_minor": 5
}
